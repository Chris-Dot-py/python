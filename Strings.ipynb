{
 "cells": [
  {
   "cell_type": "markdown",
   "id": "ab9ba884",
   "metadata": {},
   "source": [
    "# Data Types\n",
    "\n",
    "* int : integers \n",
    "* float : floating point numbers\n",
    "* str : strings, collection of characters\n",
    "* list : mutable ordered collection of data. uses square brackets.\n",
    "* dict : dictionaries\n",
    "* tup : tuples\n",
    "* bool : boolean\n",
    "* set : sets"
   ]
  },
  {
   "cell_type": "markdown",
   "id": "0fd1f72f",
   "metadata": {},
   "source": [
    "## Why doesn't 0.1+0.2-0.3 equal 0.0?\n",
    "\n",
    "This has to do with floating point accuracy and computer's abilities to represent numbers in memory.\n"
   ]
  },
  {
   "cell_type": "markdown",
   "id": "fc6eb4d7",
   "metadata": {},
   "source": [
    "# Python has Dynamic typing\n",
    "no need for specifying type for every variable like in any other programming language\n"
   ]
  },
  {
   "cell_type": "markdown",
   "id": "8c95af32",
   "metadata": {},
   "source": [
    "# Strings"
   ]
  },
  {
   "cell_type": "code",
   "execution_count": 10,
   "id": "11f567fd",
   "metadata": {},
   "outputs": [
    {
     "name": "stdout",
     "output_type": "stream",
     "text": [
      "abc\n",
      "abcd\n",
      "de\n",
      "aceg\n",
      "gfedcba\n"
     ]
    }
   ],
   "source": [
    "# Python has \"string slicing\"\n",
    "# myString[start:stop:step]\n",
    "myString = 'abcdefg'\n",
    "print(myString[0:3]) # prints 'abc' \n",
    "print(myString[:4]) # prints all from index 0 to index (4-1) ('abcd')\n",
    "print(myString[3:5]) # prints indexes [start : stop - 1] ('de')\n",
    "print(myString[::2]) # print all with step of 2 ('aceg')\n",
    "print(myString[::-1]) # reverse string. Print everything with a negative step"
   ]
  },
  {
   "cell_type": "markdown",
   "id": "921f91fa",
   "metadata": {},
   "source": [
    "### Strings are IMMUTABLE\n",
    "To \"change\" a string, you just have to create a new one.\n",
    "\n",
    "__Error case__ :"
   ]
  },
  {
   "cell_type": "code",
   "execution_count": 2,
   "id": "2744a5e0",
   "metadata": {},
   "outputs": [
    {
     "ename": "TypeError",
     "evalue": "'str' object does not support item assignment",
     "output_type": "error",
     "traceback": [
      "\u001b[0;31m---------------------------------------------------------------------------\u001b[0m",
      "\u001b[0;31mTypeError\u001b[0m                                 Traceback (most recent call last)",
      "\u001b[0;32m/var/folders/8w/4nlpx96d7953xnbzqsj_q3z40000gn/T/ipykernel_12497/1659029799.py\u001b[0m in \u001b[0;36m<module>\u001b[0;34m\u001b[0m\n\u001b[1;32m      1\u001b[0m \u001b[0mmyString\u001b[0m \u001b[0;34m=\u001b[0m \u001b[0;34m'Hello'\u001b[0m\u001b[0;34m\u001b[0m\u001b[0;34m\u001b[0m\u001b[0m\n\u001b[0;32m----> 2\u001b[0;31m \u001b[0mmyString\u001b[0m\u001b[0;34m[\u001b[0m\u001b[0;36m0\u001b[0m\u001b[0;34m]\u001b[0m \u001b[0;34m=\u001b[0m \u001b[0;34m'B'\u001b[0m\u001b[0;34m\u001b[0m\u001b[0;34m\u001b[0m\u001b[0m\n\u001b[0m",
      "\u001b[0;31mTypeError\u001b[0m: 'str' object does not support item assignment"
     ]
    }
   ],
   "source": [
    "myString = 'Hello'\n",
    "myString[0] = 'B'"
   ]
  },
  {
   "cell_type": "markdown",
   "id": "92ed2b75",
   "metadata": {},
   "source": [
    "__Instead make a new string__ :"
   ]
  },
  {
   "cell_type": "code",
   "execution_count": 4,
   "id": "7d7bdba6",
   "metadata": {},
   "outputs": [
    {
     "name": "stdout",
     "output_type": "stream",
     "text": [
      "Bello\n"
     ]
    }
   ],
   "source": [
    "myString = 'Hello'\n",
    "newString = 'B' + myString[1:]\n",
    "print(newString)"
   ]
  },
  {
   "cell_type": "markdown",
   "id": "72ffd338",
   "metadata": {},
   "source": [
    "### Python Strings has built-in methods "
   ]
  },
  {
   "cell_type": "code",
   "execution_count": 7,
   "id": "cd03810b",
   "metadata": {},
   "outputs": [
    {
     "name": "stdout",
     "output_type": "stream",
     "text": [
      "HELLO\n",
      "hello\n"
     ]
    }
   ],
   "source": [
    "myString = 'Hello'\n",
    "print(myString.upper()) # transforms myStrings to all upper case\n",
    "myString = myString.upper() # edits the string variable to all upper case\n",
    "print(myString.lower()) # transforms myStrings to all lower case"
   ]
  },
  {
   "cell_type": "markdown",
   "id": "bc906583",
   "metadata": {},
   "source": [
    "### Python has a feature that doesn't execute methods but just tells you what it is"
   ]
  },
  {
   "cell_type": "code",
   "execution_count": 8,
   "id": "59ad8d2f",
   "metadata": {},
   "outputs": [
    {
     "data": {
      "text/plain": [
       "<function str.upper()>"
      ]
     },
     "execution_count": 8,
     "metadata": {},
     "output_type": "execute_result"
    }
   ],
   "source": [
    "myString = 'Hello'\n",
    "myString.upper"
   ]
  },
  {
   "cell_type": "markdown",
   "id": "3115520b",
   "metadata": {},
   "source": [
    "### Python split method\n",
    "the split method can produce a list out of the string given a seperator.  \n",
    "The default seperator is a space ' '. \n"
   ]
  },
  {
   "cell_type": "code",
   "execution_count": 9,
   "id": "db7c6503",
   "metadata": {},
   "outputs": [
    {
     "data": {
      "text/plain": [
       "['This', 'is', 'an', 'example']"
      ]
     },
     "execution_count": 9,
     "metadata": {},
     "output_type": "execute_result"
    }
   ],
   "source": [
    "myString = 'This is an example' \n",
    "myString.split() # produces the ['This', 'is', 'an', 'example'] list"
   ]
  },
  {
   "cell_type": "markdown",
   "id": "e2b3d759",
   "metadata": {},
   "source": [
    "specified seperator case:"
   ]
  },
  {
   "cell_type": "code",
   "execution_count": 10,
   "id": "09cc217b",
   "metadata": {},
   "outputs": [
    {
     "data": {
      "text/plain": [
       "['Th', 's ', 's an example']"
      ]
     },
     "execution_count": 10,
     "metadata": {},
     "output_type": "execute_result"
    }
   ],
   "source": [
    "myString = 'This is an example' \n",
    "myString.split('i') # produces the ['Th', 's ', 's an example'] list"
   ]
  },
  {
   "cell_type": "markdown",
   "id": "9db92a9d",
   "metadata": {},
   "source": [
    "### String formatting\n",
    "Python has the _.format()_ method which makes string editing easy.  \n",
    "The syntax is :  \n",
    "__' this is your string : insert word here -> {} '.format('your word')__ "
   ]
  },
  {
   "cell_type": "code",
   "execution_count": 3,
   "id": "25edc611",
   "metadata": {},
   "outputs": [
    {
     "data": {
      "text/plain": [
       "'hello Christian, this is a .format() test.'"
      ]
     },
     "execution_count": 3,
     "metadata": {},
     "output_type": "execute_result"
    }
   ],
   "source": [
    "myString = 'hello {}, this is a .format() test.'\n",
    "myString.format('Christian') # fills '{}' with the word 'Christian'"
   ]
  },
  {
   "cell_type": "markdown",
   "id": "318734f6",
   "metadata": {},
   "source": [
    "It is possible to insert more words by adding more brackets."
   ]
  },
  {
   "cell_type": "code",
   "execution_count": 4,
   "id": "fe7e9b0f",
   "metadata": {},
   "outputs": [
    {
     "data": {
      "text/plain": [
       "'hello Christian, Kelly, and Giovanni.'"
      ]
     },
     "execution_count": 4,
     "metadata": {},
     "output_type": "execute_result"
    }
   ],
   "source": [
    "myString = 'hello {}, {}, and {}.'\n",
    "myString.format('Christian','Kelly', 'Giovanni') "
   ]
  },
  {
   "cell_type": "markdown",
   "id": "ebc2de9b",
   "metadata": {},
   "source": [
    "by assigning __keywords__ or __indexes__ to the words to be inserted, it is possibile  \n",
    "to specify which words are used to fill the brackets indicated."
   ]
  },
  {
   "cell_type": "code",
   "execution_count": 15,
   "id": "b291af38",
   "metadata": {},
   "outputs": [
    {
     "name": "stdout",
     "output_type": "stream",
     "text": [
      "one, two, and Three.\n",
      "Three, Two, and One.\n",
      "hello Christian, Kelly, and Giovanni.\n",
      "hello Giovanni, Kelly, and Christian.\n"
     ]
    }
   ],
   "source": [
    "# indexes\n",
    "myString = '{0}, {1}, and {2}.'\n",
    "print(myString.format('one', 'two','Three') )\n",
    "myString = '{2}, {1}, and {0}.' \n",
    "print(myString.format('One', 'Two','Three') )# filling order is different\n",
    "# keywords\n",
    "myString = 'hello {c}, {k}, and {g}.'\n",
    "print(myString.format(c ='Christian', k = 'Kelly',g = 'Giovanni') )\n",
    "myString = 'hello {g}, {k}, and {c}.' \n",
    "print(myString.format(c ='Christian', k = 'Kelly',g = 'Giovanni') )# filling order is different"
   ]
  },
  {
   "cell_type": "markdown",
   "id": "30cbc82c",
   "metadata": {},
   "source": [
    "__it is also possible to use string formatting to show a certain precision  \n",
    "when using floating point numbers__"
   ]
  },
  {
   "cell_type": "code",
   "execution_count": 13,
   "id": "476849b3",
   "metadata": {},
   "outputs": [
    {
     "name": "stdout",
     "output_type": "stream",
     "text": [
      "0.1287001287001287\n",
      "0.129\n",
      " 0.129\n"
     ]
    }
   ],
   "source": [
    "myFloat = 100/777\n",
    "print(myFloat) # no precision formatting\n",
    "print(\"{num:1.3f}\".format(num = myFloat)) # shows at max 3 \n",
    "print(\"{f:6.3f}\".format(f = myFloat)) # 6 character slots are dedicated for the number (1 space)"
   ]
  },
  {
   "cell_type": "markdown",
   "id": "372c8d73",
   "metadata": {},
   "source": [
    "__there is an easier alternative to string formatting which only recent__  \n",
    "the syntax is : __f'This is your string {}'__"
   ]
  },
  {
   "cell_type": "code",
   "execution_count": 17,
   "id": "2032c423",
   "metadata": {},
   "outputs": [
    {
     "name": "stdout",
     "output_type": "stream",
     "text": [
      "Hello Kelly, are you 26 years old?\n"
     ]
    }
   ],
   "source": [
    "name = 'Kelly'\n",
    "age = 26\n",
    "print(f'Hello {name}, are you {age} years old?')"
   ]
  },
  {
   "cell_type": "code",
   "execution_count": null,
   "id": "b3f409b0",
   "metadata": {},
   "outputs": [],
   "source": []
  }
 ],
 "metadata": {
  "kernelspec": {
   "display_name": "Python 3 (ipykernel)",
   "language": "python",
   "name": "python3"
  },
  "language_info": {
   "codemirror_mode": {
    "name": "ipython",
    "version": 3
   },
   "file_extension": ".py",
   "mimetype": "text/x-python",
   "name": "python",
   "nbconvert_exporter": "python",
   "pygments_lexer": "ipython3",
   "version": "3.9.7"
  }
 },
 "nbformat": 4,
 "nbformat_minor": 5
}
