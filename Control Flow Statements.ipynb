{
 "cells": [
  {
   "cell_type": "markdown",
   "id": "08437e2f",
   "metadata": {},
   "source": [
    "# If, elif, else\n",
    "__If, elif, else__ are very common in programs because they are used to control the flow of the program  \n",
    "given certain conditions.\n",
    "\n",
    "__Note : Python uses semicolons (':') and indentation (or white spaces) to group block of codes__"
   ]
  },
  {
   "cell_type": "code",
   "execution_count": 1,
   "id": "1c4bd6d5",
   "metadata": {},
   "outputs": [
    {
     "name": "stdout",
     "output_type": "stream",
     "text": [
      "Hello Christian\n"
     ]
    }
   ],
   "source": [
    "name = 'Christian'\n",
    "\n",
    "if name == 'Christian':\n",
    "    print('Hello ' + name )\n",
    "elif name == 'Kelly':\n",
    "    print('Hello ' + name )\n",
    "else:\n",
    "    print('Hello what\\'s your name?')\n",
    "    \n"
   ]
  },
  {
   "cell_type": "code",
   "execution_count": 2,
   "id": "5e0416ca",
   "metadata": {
    "scrolled": true
   },
   "outputs": [
    {
     "name": "stdout",
     "output_type": "stream",
     "text": [
      "Hello Kelly\n"
     ]
    }
   ],
   "source": [
    "name = 'Kelly'\n",
    "\n",
    "if name == 'Christian':\n",
    "    print('Hello ' + name )\n",
    "elif name == 'Kelly':\n",
    "    print('Hello ' + name )\n",
    "else:\n",
    "    print('Hello what\\'s your name?')"
   ]
  },
  {
   "cell_type": "code",
   "execution_count": 3,
   "id": "9e122092",
   "metadata": {},
   "outputs": [
    {
     "name": "stdout",
     "output_type": "stream",
     "text": [
      "Hello, what's your name?\n"
     ]
    }
   ],
   "source": [
    "name = 'Joanna'\n",
    "\n",
    "if name == 'Christian':\n",
    "    print('Hello ' + name )\n",
    "elif name == 'Kelly':\n",
    "    print('Hello ' + name )\n",
    "else:\n",
    "    print('Hello, what\\'s your name?')"
   ]
  },
  {
   "cell_type": "markdown",
   "id": "6bf730d3",
   "metadata": {},
   "source": [
    "# For loops\n",
    "__for loops__ are used to iterate blocks of code inside of it.  \n",
    "__for loops__ are commonly used to access iterable elements to make something out of it.  \n",
    "__for loops__ can be very useful when working with __lists, strings, tuples, dictionaries__.\n",
    "\n",
    "the current element of the list in the current iteration of the loop is assigned to the  \n",
    "for loop variable."
   ]
  },
  {
   "cell_type": "code",
   "execution_count": 4,
   "id": "07d4ecdb",
   "metadata": {},
   "outputs": [
    {
     "name": "stdout",
     "output_type": "stream",
     "text": [
      "current value of 'num': num = 1,  which is mylist[0]\n",
      "current value of 'num': num = 2,  which is mylist[1]\n",
      "current value of 'num': num = 3,  which is mylist[2]\n"
     ]
    }
   ],
   "source": [
    "mylist = [1,2,3]\n",
    "index = 0\n",
    "\n",
    "# print elements inside 'mylist'\n",
    "for num in mylist:\n",
    "    print(f'current value of \\'num\\': num = {num},  which is mylist[{index}]')\n",
    "    index = index + 1\n"
   ]
  },
  {
   "cell_type": "markdown",
   "id": "ad8c067b",
   "metadata": {},
   "source": [
    "### Simple pair number finder algorithm "
   ]
  },
  {
   "cell_type": "code",
   "execution_count": 5,
   "id": "dbbe6154",
   "metadata": {},
   "outputs": [
    {
     "name": "stdout",
     "output_type": "stream",
     "text": [
      "0 is even\n",
      "1 is not even\n",
      "2 is even\n",
      "3 is not even\n",
      "4 is even\n",
      "5 is not even\n",
      "6 is even\n",
      "7 is not even\n",
      "8 is even\n",
      "9 is not even\n",
      "10 is even\n"
     ]
    }
   ],
   "source": [
    "mynumbers = [0,1,2,3,4,5,6,7,8,9,10]\n",
    "\n",
    "for num in mynumbers:\n",
    "    if (num % 2) == 0: # divide by two, if remainder is zero, its an even number\n",
    "        print(f'{num} is even')\n",
    "    else:\n",
    "        print(f'{num} is not even')"
   ]
  },
  {
   "cell_type": "markdown",
   "id": "1c9c7fd2",
   "metadata": {},
   "source": [
    "### Add all values in the list algorith"
   ]
  },
  {
   "cell_type": "code",
   "execution_count": 6,
   "id": "493df5bd",
   "metadata": {},
   "outputs": [
    {
     "name": "stdout",
     "output_type": "stream",
     "text": [
      "0\n",
      "1\n",
      "3\n",
      "6\n",
      "10\n",
      "15\n",
      "21\n",
      "28\n",
      "36\n",
      "45\n",
      "55\n",
      "\n",
      "final value is 55\n"
     ]
    }
   ],
   "source": [
    "mynumbers = [0,1,2,3,4,5,6,7,8,9,10]\n",
    "myvalue = 0\n",
    "\n",
    "for num in mynumbers:\n",
    "    myvalue += num\n",
    "    print(myvalue) # prints 'myvalue' value at every iteration\n",
    "    \n",
    "print(f'\\nfinal value is {myvalue}') # only shows the final sum"
   ]
  },
  {
   "cell_type": "markdown",
   "id": "12611cfc",
   "metadata": {},
   "source": [
    "### For loops usage in strings\n",
    "strings are basically a list made up of characters."
   ]
  },
  {
   "cell_type": "code",
   "execution_count": 7,
   "id": "be43683e",
   "metadata": {},
   "outputs": [
    {
     "name": "stdout",
     "output_type": "stream",
     "text": [
      "'H' is myString[0]\n",
      "'e' is myString[1]\n",
      "'l' is myString[2]\n",
      "'l' is myString[3]\n",
      "'o' is myString[4]\n",
      "' ' is myString[5]\n",
      "'W' is myString[6]\n",
      "'o' is myString[7]\n",
      "'r' is myString[8]\n",
      "'l' is myString[9]\n",
      "'d' is myString[10]\n",
      "'!' is myString[11]\n"
     ]
    }
   ],
   "source": [
    "myString = 'Hello World!'\n",
    "index  = 0\n",
    "\n",
    "for ch in myString:\n",
    "    print(f'\\'{ch}\\' is myString[{index}]')\n",
    "    index+=1"
   ]
  },
  {
   "cell_type": "markdown",
   "id": "6e04d8f6",
   "metadata": {},
   "source": [
    "__There are cases where the for variable is not used, and the for loop is solely used  \n",
    "to iterate a number of times a block of code__\n",
    "In this case the character '_' is used as for variable which states that no variable is  \n",
    "being used. \n",
    "\n",
    "NOTE : the range method generates a range of values given the parameters passed"
   ]
  },
  {
   "cell_type": "code",
   "execution_count": 8,
   "id": "e4be5ce7",
   "metadata": {},
   "outputs": [
    {
     "name": "stdout",
     "output_type": "stream",
     "text": [
      "Hello!\n",
      "Hello!\n",
      "Hello!\n",
      "Hello!\n",
      "Hello!\n"
     ]
    }
   ],
   "source": [
    "num_of_iterations = 5\n",
    "\n",
    "for _ in range(num_of_iterations): # iterate the following block of code a number of times\n",
    "    print('Hello!')\n",
    "    "
   ]
  },
  {
   "cell_type": "markdown",
   "id": "13bf49d2",
   "metadata": {},
   "source": [
    "__Tuples can be used as well as a list of elements to be iterated__"
   ]
  },
  {
   "cell_type": "code",
   "execution_count": 9,
   "id": "2d8bc07c",
   "metadata": {},
   "outputs": [
    {
     "name": "stdout",
     "output_type": "stream",
     "text": [
      "1\n",
      "2\n",
      "3\n",
      "4\n",
      "5\n",
      "6\n"
     ]
    }
   ],
   "source": [
    "myTup = (1,2,3,4,5,6)\n",
    "\n",
    "for num in myTup:\n",
    "    print(num)"
   ]
  },
  {
   "cell_type": "markdown",
   "id": "3abd3bed",
   "metadata": {},
   "source": [
    "### Tuples unpacking \n",
    "__tuples__ have a special functionality when it comes to for loops.  \n",
    "When iterating a list with tuples inside it, we can use of __Tuples unpacking__.  \n",
    "\n",
    "It basically consists of using more than one __for variables__."
   ]
  },
  {
   "cell_type": "code",
   "execution_count": 10,
   "id": "ef3633ef",
   "metadata": {},
   "outputs": [
    {
     "data": {
      "text/plain": [
       "3"
      ]
     },
     "execution_count": 10,
     "metadata": {},
     "output_type": "execute_result"
    }
   ],
   "source": [
    "myListOfTuples = [(1,2),(3,4),(5,6)] # Note that this has THREE elements not 6\n",
    "len(myListOfTuples)"
   ]
  },
  {
   "cell_type": "markdown",
   "id": "988b9989",
   "metadata": {},
   "source": [
    "__The items in this kind of list are the Tuples themselves__"
   ]
  },
  {
   "cell_type": "code",
   "execution_count": 11,
   "id": "4339f7b5",
   "metadata": {},
   "outputs": [
    {
     "name": "stdout",
     "output_type": "stream",
     "text": [
      "(1, 2)\n",
      "(3, 4)\n",
      "(5, 6)\n"
     ]
    }
   ],
   "source": [
    "for item in myListOfTuples:\n",
    "    print(item)"
   ]
  },
  {
   "cell_type": "markdown",
   "id": "e3ed6692",
   "metadata": {},
   "source": [
    "### Tuples unpacking example\n",
    "expressing the for variable as a tuple gives us access to the tuple, and their individual elements, of the current iteration"
   ]
  },
  {
   "cell_type": "code",
   "execution_count": 12,
   "id": "13157c65",
   "metadata": {},
   "outputs": [
    {
     "name": "stdout",
     "output_type": "stream",
     "text": [
      "1\n",
      "2\n",
      "3\n",
      "4\n",
      "5\n",
      "6\n"
     ]
    }
   ],
   "source": [
    "for (a,b) in myListOfTuples:\n",
    "    print(a)\n",
    "    print(b)"
   ]
  },
  {
   "cell_type": "code",
   "execution_count": 13,
   "id": "532fa893",
   "metadata": {},
   "outputs": [
    {
     "name": "stdout",
     "output_type": "stream",
     "text": [
      "(1, 2, 3)\n",
      "(4, 5, 6)\n",
      "(7, 8, 9)\n"
     ]
    }
   ],
   "source": [
    "t = [(1,2,3),(4,5,6),(7,8,9)]\n",
    "for item in t:\n",
    "    print(item)"
   ]
  },
  {
   "cell_type": "code",
   "execution_count": 14,
   "id": "e30e1460",
   "metadata": {},
   "outputs": [
    {
     "name": "stdout",
     "output_type": "stream",
     "text": [
      "2\n",
      "5\n",
      "8\n"
     ]
    }
   ],
   "source": [
    "for (a,b,c) in t:\n",
    "    print(b) # prints 2,5, and 8"
   ]
  },
  {
   "cell_type": "markdown",
   "id": "8402a565",
   "metadata": {},
   "source": [
    "# Iterating through dictionaries\n",
    "when we try to iterate through a dictionary like just what we did to the previous lists, it will only return their key values"
   ]
  },
  {
   "cell_type": "code",
   "execution_count": 15,
   "id": "59657274",
   "metadata": {},
   "outputs": [
    {
     "name": "stdout",
     "output_type": "stream",
     "text": [
      "k1\n",
      "k2\n",
      "k3\n"
     ]
    }
   ],
   "source": [
    "myDict = {'k1':1, 'k2':2, 'k3':3}\n",
    "\n",
    "for item in myDict:\n",
    "    print(item)"
   ]
  },
  {
   "cell_type": "markdown",
   "id": "aa016fe2",
   "metadata": {},
   "source": [
    "__To print the items of the dictionaries, we must use the _item()_ function to return the tuple pairs that they're made of__"
   ]
  },
  {
   "cell_type": "code",
   "execution_count": 16,
   "id": "ed477f98",
   "metadata": {},
   "outputs": [
    {
     "name": "stdout",
     "output_type": "stream",
     "text": [
      "('k1', 1)\n",
      "('k2', 2)\n",
      "('k3', 3)\n"
     ]
    }
   ],
   "source": [
    "for item in myDict.items():\n",
    "    print(item)"
   ]
  },
  {
   "cell_type": "markdown",
   "id": "0028e004",
   "metadata": {},
   "source": [
    "__Since dictionaries are made of Tuple pairs, we can use tuple unpacking here too__"
   ]
  },
  {
   "cell_type": "code",
   "execution_count": 17,
   "id": "5e421106",
   "metadata": {},
   "outputs": [
    {
     "name": "stdout",
     "output_type": "stream",
     "text": [
      "the associated value to the key 'k1' is 1\n",
      "the associated value to the key 'k2' is 2\n",
      "the associated value to the key 'k3' is 3\n"
     ]
    }
   ],
   "source": [
    "for key,value in myDict.items():\n",
    "    print(f'the associated value to the key \\'{key}\\' is {value}')"
   ]
  },
  {
   "cell_type": "markdown",
   "id": "58ebe289",
   "metadata": {},
   "source": [
    "__The previous lines of code also works without the _.items()_ method since myDict is made of pairs of tuples__"
   ]
  },
  {
   "cell_type": "code",
   "execution_count": 18,
   "id": "01bb2ec6",
   "metadata": {},
   "outputs": [
    {
     "name": "stdout",
     "output_type": "stream",
     "text": [
      "the associated value to the key 'k' is 1\n",
      "the associated value to the key 'k' is 2\n",
      "the associated value to the key 'k' is 3\n"
     ]
    }
   ],
   "source": [
    "for key,value in myDict:\n",
    "    print(f'the associated value to the key \\'{key}\\' is {value}')"
   ]
  },
  {
   "cell_type": "markdown",
   "id": "5f0d7224",
   "metadata": {},
   "source": [
    "# While loops\n",
    "It is used to continouously iterate a block of code until the given condition becomes False"
   ]
  },
  {
   "cell_type": "code",
   "execution_count": 19,
   "id": "0b05767e",
   "metadata": {},
   "outputs": [
    {
     "name": "stdout",
     "output_type": "stream",
     "text": [
      "current value of num is 0\n",
      "current value of num is 1\n",
      "current value of num is 2\n",
      "current value of num is 3\n",
      "current value of num is 4\n",
      "current value of num is 5\n",
      "num is no longer less than 6\n"
     ]
    }
   ],
   "source": [
    "num = 0\n",
    "\n",
    "while num < 6:\n",
    "    print(f'current value of num is {num}')\n",
    "    num+=1\n",
    "else:\n",
    "    print('num is no longer less than 6')"
   ]
  },
  {
   "cell_type": "markdown",
   "id": "fa4b4598",
   "metadata": {},
   "source": [
    "### break, continue, pass\n",
    "* __break__ : when encountered, breaks the current loop.\n",
    "* __continue__ : when encountered, skips to the next iteration of the loop.\n",
    "* __pass__ : means \"do nothing\". Used as a placeholder for empty for loops as having no lines of code in a for loop generates and error"
   ]
  },
  {
   "cell_type": "code",
   "execution_count": 20,
   "id": "7d7abcf3",
   "metadata": {},
   "outputs": [
    {
     "name": "stdout",
     "output_type": "stream",
     "text": [
      "current value of num is 1\n",
      "current value of num is 2\n"
     ]
    }
   ],
   "source": [
    "# Break example\n",
    "num = 0\n",
    "\n",
    "# prints up to num = 2\n",
    "while num < 6:\n",
    "    num+=1\n",
    "    if num == 3: \n",
    "        break\n",
    "    else:\n",
    "        print(f'current value of num is {num}')\n",
    "        \n",
    "    "
   ]
  },
  {
   "cell_type": "code",
   "execution_count": 21,
   "id": "f27fca67",
   "metadata": {},
   "outputs": [
    {
     "name": "stdout",
     "output_type": "stream",
     "text": [
      "current value of num is 1\n",
      "current value of num is 2\n",
      "current value of num is 4\n",
      "current value of num is 5\n",
      "current value of num is 6\n"
     ]
    }
   ],
   "source": [
    "# continue example\n",
    "num = 0\n",
    "\n",
    "# prints everything besides num = 3\n",
    "while num < 6:\n",
    "    num+=1\n",
    "    if num == 3: \n",
    "        continue\n",
    "    else:\n",
    "        print(f'current value of num is {num}')\n",
    "        \n",
    "  "
   ]
  },
  {
   "cell_type": "code",
   "execution_count": 22,
   "id": "9b3d9e18",
   "metadata": {},
   "outputs": [
    {
     "ename": "IndentationError",
     "evalue": "expected an indented block (Temp/ipykernel_9632/3330300049.py, line 4)",
     "output_type": "error",
     "traceback": [
      "\u001b[1;36m  File \u001b[1;32m\"C:\\Users\\CHRIST~1\\AppData\\Local\\Temp/ipykernel_9632/3330300049.py\"\u001b[1;36m, line \u001b[1;32m4\u001b[0m\n\u001b[1;33m    # comment\u001b[0m\n\u001b[1;37m             ^\u001b[0m\n\u001b[1;31mIndentationError\u001b[0m\u001b[1;31m:\u001b[0m expected an indented block\n"
     ]
    }
   ],
   "source": [
    "# pass example : without pass, an error is generated\n",
    "x = 0\n",
    "for x in range(10):\n",
    "    # comment"
   ]
  },
  {
   "cell_type": "code",
   "execution_count": null,
   "id": "e802a66f",
   "metadata": {},
   "outputs": [],
   "source": [
    "# pass example : with pass\n",
    "x = 0\n",
    "for x in range(10):\n",
    "    # comment\n",
    "    pass"
   ]
  },
  {
   "cell_type": "code",
   "execution_count": null,
   "id": "736c2788",
   "metadata": {},
   "outputs": [],
   "source": []
  }
 ],
 "metadata": {
  "kernelspec": {
   "display_name": "Python 3 (ipykernel)",
   "language": "python",
   "name": "python3"
  },
  "language_info": {
   "codemirror_mode": {
    "name": "ipython",
    "version": 3
   },
   "file_extension": ".py",
   "mimetype": "text/x-python",
   "name": "python",
   "nbconvert_exporter": "python",
   "pygments_lexer": "ipython3",
   "version": "3.9.7"
  }
 },
 "nbformat": 4,
 "nbformat_minor": 5
}
