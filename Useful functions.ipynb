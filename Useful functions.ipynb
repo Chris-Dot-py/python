{
 "cells": [
  {
   "cell_type": "markdown",
   "id": "f17f5d41",
   "metadata": {},
   "source": [
    "# Useful functions\n"
   ]
  },
  {
   "cell_type": "markdown",
   "id": "8a43871f",
   "metadata": {},
   "source": [
    "__range, enumerate, zip, in, min, max, random (imported) shuffle, input (always returns a string)__"
   ]
  },
  {
   "cell_type": "markdown",
   "id": "ddafee02",
   "metadata": {},
   "source": [
    "## range\n",
    "this returns a list of numbers according to the parameters passed.  \n",
    "The syntax is the following:  \n",
    "`range(_start_,_stop_,_step_)`"
   ]
  },
  {
   "cell_type": "markdown",
   "id": "f46bf18b",
   "metadata": {},
   "source": [
    "__list with N elements__\n",
    "NOTE: range is a __generator__, the returned value must be cast to a list"
   ]
  },
  {
   "cell_type": "code",
   "execution_count": 1,
   "id": "a65c4c0c",
   "metadata": {},
   "outputs": [
    {
     "data": {
      "text/plain": [
       "range(0, 10)"
      ]
     },
     "execution_count": 1,
     "metadata": {},
     "output_type": "execute_result"
    }
   ],
   "source": [
    "# no casting\n",
    "numlist = range(10) # N = 10\n",
    "numlist"
   ]
  },
  {
   "cell_type": "code",
   "execution_count": 2,
   "id": "1b173920",
   "metadata": {},
   "outputs": [
    {
     "data": {
      "text/plain": [
       "[0, 1, 2, 3, 4, 5, 6, 7, 8, 9]"
      ]
     },
     "execution_count": 2,
     "metadata": {},
     "output_type": "execute_result"
    }
   ],
   "source": [
    "# with casting\n",
    "numlist = list(range(10)) # N = 10\n",
    "numlist"
   ]
  },
  {
   "cell_type": "markdown",
   "id": "762e228c",
   "metadata": {},
   "source": [
    "__with a start parameter__"
   ]
  },
  {
   "cell_type": "code",
   "execution_count": 3,
   "id": "da78b2c9",
   "metadata": {},
   "outputs": [
    {
     "data": {
      "text/plain": [
       "[5, 6, 7, 8, 9]"
      ]
     },
     "execution_count": 3,
     "metadata": {},
     "output_type": "execute_result"
    }
   ],
   "source": [
    "numlist = list(range(5,10))\n",
    "numlist"
   ]
  },
  {
   "cell_type": "markdown",
   "id": "c270acab",
   "metadata": {},
   "source": [
    "__with steps__"
   ]
  },
  {
   "cell_type": "code",
   "execution_count": 4,
   "id": "88bc6dee",
   "metadata": {},
   "outputs": [
    {
     "data": {
      "text/plain": [
       "[0, 2, 4, 6, 8]"
      ]
     },
     "execution_count": 4,
     "metadata": {},
     "output_type": "execute_result"
    }
   ],
   "source": [
    "numlist = list(range(0,10,2))\n",
    "numlist"
   ]
  },
  {
   "cell_type": "markdown",
   "id": "a6aad5a0",
   "metadata": {},
   "source": [
    "## enumerate\n",
    "__In python it is common to associate a counter or index to some elements of a list__  \n",
    "\n",
    "Example:"
   ]
  },
  {
   "cell_type": "code",
   "execution_count": 5,
   "id": "183bd808",
   "metadata": {},
   "outputs": [
    {
     "name": "stdout",
     "output_type": "stream",
     "text": [
      "item : E, index 0\n",
      "item : x, index 1\n",
      "item : a, index 2\n",
      "item : m, index 3\n",
      "item : p, index 4\n",
      "item : l, index 5\n",
      "item : e, index 6\n"
     ]
    }
   ],
   "source": [
    "mylist = []\n",
    "index = 0\n",
    "\n",
    "for item in 'Example':\n",
    "    mylist.append(item)\n",
    "    print('item : {g}, index {i}'.format(g = item, i = index))\n",
    "    index += 1\n"
   ]
  },
  {
   "cell_type": "markdown",
   "id": "d72cbdb8",
   "metadata": {},
   "source": [
    "__The previous line of codes are simplified with _enumerate(item)___"
   ]
  },
  {
   "cell_type": "code",
   "execution_count": 6,
   "id": "bb175bd0",
   "metadata": {},
   "outputs": [
    {
     "name": "stdout",
     "output_type": "stream",
     "text": [
      "(0, 'E')\n",
      "(1, 'x')\n",
      "(2, 'a')\n",
      "(3, 'm')\n",
      "(4, 'p')\n",
      "(5, 'l')\n",
      "(6, 'e')\n"
     ]
    }
   ],
   "source": [
    "word = 'Example'\n",
    "\n",
    "for item in enumerate(word):\n",
    "    print(item)"
   ]
  },
  {
   "cell_type": "markdown",
   "id": "1b2310a1",
   "metadata": {},
   "source": [
    "__Since it returns a pair of tuples, we can use _tuple unpacking_ with it__"
   ]
  },
  {
   "cell_type": "code",
   "execution_count": 10,
   "id": "3e012954",
   "metadata": {},
   "outputs": [
    {
     "name": "stdout",
     "output_type": "stream",
     "text": [
      "item : 'E', index : 0\n",
      "item : 'x', index : 1\n",
      "item : 'a', index : 2\n",
      "item : 'm', index : 3\n",
      "item : 'p', index : 4\n",
      "item : 'l', index : 5\n",
      "item : 'e', index : 6\n"
     ]
    }
   ],
   "source": [
    "word = 'Example'\n",
    "\n",
    "for index,item in enumerate(word):\n",
    "    print('item : \\'{}\\', index : {}'.format(item,index))"
   ]
  },
  {
   "cell_type": "markdown",
   "id": "d05fdd89",
   "metadata": {},
   "source": [
    "### zip"
   ]
  },
  {
   "cell_type": "markdown",
   "id": "7054f99a",
   "metadata": {},
   "source": [
    "### in"
   ]
  },
  {
   "cell_type": "markdown",
   "id": "0989cf84",
   "metadata": {},
   "source": [
    "### min"
   ]
  },
  {
   "cell_type": "markdown",
   "id": "4fd8dcf6",
   "metadata": {},
   "source": [
    "### max"
   ]
  },
  {
   "cell_type": "markdown",
   "id": "9977b9fa",
   "metadata": {},
   "source": [
    "### random"
   ]
  },
  {
   "cell_type": "markdown",
   "id": "751edb88",
   "metadata": {},
   "source": [
    "### input"
   ]
  },
  {
   "cell_type": "code",
   "execution_count": null,
   "id": "cb3797f9",
   "metadata": {},
   "outputs": [],
   "source": []
  }
 ],
 "metadata": {
  "kernelspec": {
   "display_name": "Python 3 (ipykernel)",
   "language": "python",
   "name": "python3"
  },
  "language_info": {
   "codemirror_mode": {
    "name": "ipython",
    "version": 3
   },
   "file_extension": ".py",
   "mimetype": "text/x-python",
   "name": "python",
   "nbconvert_exporter": "python",
   "pygments_lexer": "ipython3",
   "version": "3.9.7"
  }
 },
 "nbformat": 4,
 "nbformat_minor": 5
}
