{
 "cells": [
  {
   "cell_type": "markdown",
   "id": "15d85a12",
   "metadata": {},
   "source": [
    "# Dictionaries\n",
    "### __Dictionaries__ allow us to associate a _key_ , which is a string, to a certain value."
   ]
  },
  {
   "cell_type": "code",
   "execution_count": 6,
   "id": "0f433cfd",
   "metadata": {},
   "outputs": [
    {
     "name": "stdout",
     "output_type": "stream",
     "text": [
      "value1\n",
      "value2\n"
     ]
    }
   ],
   "source": [
    "myDict = {'key1':'value1','key2':'value2'}\n",
    "print(myDict['key1'])\n",
    "print(myDict['key2'])"
   ]
  },
  {
   "cell_type": "markdown",
   "id": "a06c58b5",
   "metadata": {},
   "source": [
    "### The __value__ associated with a key can be anything from an _integer_, _float_,  _String_, list, etc..."
   ]
  },
  {
   "cell_type": "code",
   "execution_count": 8,
   "id": "e984871a",
   "metadata": {},
   "outputs": [
    {
     "name": "stdout",
     "output_type": "stream",
     "text": [
      "5\n",
      "3.99\n",
      "Christian\n",
      "[0, 1, 2]\n"
     ]
    }
   ],
   "source": [
    "myDict = {'myInt' : 5 , 'pizza_price' : 3.99, 'name' : 'Christian', 'numList' : [0,1,2]}\n",
    "print(myDict['myInt'])\n",
    "print(myDict['pizza_price'])\n",
    "print(myDict['name'])\n",
    "print(myDict['numList'])"
   ]
  },
  {
   "cell_type": "markdown",
   "id": "b44917e0",
   "metadata": {},
   "source": [
    "### it is possible to treat any value associated with a key as if its a stand alone variable"
   ]
  },
  {
   "cell_type": "code",
   "execution_count": 10,
   "id": "e81aab08",
   "metadata": {},
   "outputs": [
    {
     "name": "stdout",
     "output_type": "stream",
     "text": [
      "10\n",
      "CHRISTIAN\n",
      "2\n"
     ]
    }
   ],
   "source": [
    "myDict = {'myInt' : 5 , 'pizza_price' : 3.99, 'name' : 'Christian', 'numList' : [0,1,2]}\n",
    "new_num = 5 + myDict['myInt'] # 5 + 5\n",
    "print(new_num)\n",
    "\n",
    "name_all_caps = myDict['name'].upper() # 'CHRISTIAN'\n",
    "print(name_all_caps)\n",
    "\n",
    "two = myDict['numList'][2]   # 2\n",
    "print(two)"
   ]
  },
  {
   "cell_type": "markdown",
   "id": "66fb0143",
   "metadata": {},
   "source": [
    "### its possible to edit values associated with a certain key\n"
   ]
  },
  {
   "cell_type": "code",
   "execution_count": 2,
   "id": "91e8579f",
   "metadata": {},
   "outputs": [
    {
     "name": "stdout",
     "output_type": "stream",
     "text": [
      "25\n"
     ]
    }
   ],
   "source": [
    "myDict = {'myInt' : 5 , 'pizza_price' : 3.99, 'name' : 'Christian', 'numList' : [0,1,2]}\n",
    "myDict['myInt'] = 5**2 # 25\n",
    "print(myDict['myInt'])"
   ]
  },
  {
   "cell_type": "code",
   "execution_count": null,
   "id": "d61a76d5",
   "metadata": {},
   "outputs": [],
   "source": []
  }
 ],
 "metadata": {
  "kernelspec": {
   "display_name": "Python 3 (ipykernel)",
   "language": "python",
   "name": "python3"
  },
  "language_info": {
   "codemirror_mode": {
    "name": "ipython",
    "version": 3
   },
   "file_extension": ".py",
   "mimetype": "text/x-python",
   "name": "python",
   "nbconvert_exporter": "python",
   "pygments_lexer": "ipython3",
   "version": "3.9.7"
  }
 },
 "nbformat": 4,
 "nbformat_minor": 5
}
