{
 "cells": [
  {
   "cell_type": "markdown",
   "id": "0d50b3b3",
   "metadata": {},
   "source": [
    "# Section 6 : Methods and Functions\n",
    "* _Methods_ are the \"actions\" that an object can do.  \n",
    "     Syntax : \n",
    "         instance.method()\n",
    "  \n",
    "* _Function_ : a block of code that can be executed when called.\n",
    "\n",
    "  Syntax : \n",
    "          def name_of_function:\n",
    "               # block of code"
   ]
  },
  {
   "cell_type": "markdown",
   "id": "4efa08af",
   "metadata": {},
   "source": [
    "### Methods are part of object oriented programmin so we are going to focus first on functions.  \n",
    "__Functions are defined with the _def_ keyword__"
   ]
  },
  {
   "cell_type": "code",
   "execution_count": 5,
   "id": "14c4cfbb",
   "metadata": {},
   "outputs": [
    {
     "name": "stdout",
     "output_type": "stream",
     "text": [
      "hello\n"
     ]
    }
   ],
   "source": [
    "def say_hello():\n",
    "    print('hello')\n",
    "    \n",
    "say_hello()"
   ]
  },
  {
   "cell_type": "markdown",
   "id": "9618775c",
   "metadata": {},
   "source": [
    "__Functions can receive parameters__"
   ]
  },
  {
   "cell_type": "code",
   "execution_count": 8,
   "id": "fcf102b7",
   "metadata": {},
   "outputs": [
    {
     "name": "stdout",
     "output_type": "stream",
     "text": [
      "hello Christian\n"
     ]
    }
   ],
   "source": [
    "def say_hello(name):\n",
    "    print(f'hello {name}')\n",
    "    \n",
    "say_hello('Christian')"
   ]
  },
  {
   "cell_type": "markdown",
   "id": "07a7d6c4",
   "metadata": {},
   "source": [
    "__If a function requires a parameter and it is called without passing any to it, it returns an error.__  \n",
    "\n",
    "__To avoid errors it is possible to assign a default value to the parameter when the function is called without  parameters__"
   ]
  },
  {
   "cell_type": "code",
   "execution_count": 9,
   "id": "21c1c3de",
   "metadata": {},
   "outputs": [
    {
     "ename": "TypeError",
     "evalue": "say_hello() missing 1 required positional argument: 'name'",
     "output_type": "error",
     "traceback": [
      "\u001b[0;31m---------------------------------------------------------------------------\u001b[0m",
      "\u001b[0;31mTypeError\u001b[0m                                 Traceback (most recent call last)",
      "\u001b[0;32m/var/folders/8w/4nlpx96d7953xnbzqsj_q3z40000gn/T/ipykernel_1507/2211122220.py\u001b[0m in \u001b[0;36m<module>\u001b[0;34m\u001b[0m\n\u001b[1;32m      3\u001b[0m     \u001b[0mprint\u001b[0m\u001b[0;34m(\u001b[0m\u001b[0;34mf'hello {name}'\u001b[0m\u001b[0;34m)\u001b[0m\u001b[0;34m\u001b[0m\u001b[0;34m\u001b[0m\u001b[0m\n\u001b[1;32m      4\u001b[0m \u001b[0;34m\u001b[0m\u001b[0m\n\u001b[0;32m----> 5\u001b[0;31m \u001b[0msay_hello\u001b[0m\u001b[0;34m(\u001b[0m\u001b[0;34m)\u001b[0m\u001b[0;34m\u001b[0m\u001b[0;34m\u001b[0m\u001b[0m\n\u001b[0m",
      "\u001b[0;31mTypeError\u001b[0m: say_hello() missing 1 required positional argument: 'name'"
     ]
    }
   ],
   "source": [
    "# function call without parameters\n",
    "def say_hello(name):\n",
    "    print(f'hello {name}')\n",
    "    \n",
    "say_hello()"
   ]
  },
  {
   "cell_type": "code",
   "execution_count": 10,
   "id": "8ce89f4e",
   "metadata": {},
   "outputs": [
    {
     "name": "stdout",
     "output_type": "stream",
     "text": [
      "hello Default\n"
     ]
    }
   ],
   "source": [
    "# function call without parameters and with a default value\n",
    "def say_hello(name = 'Default'):\n",
    "    print(f'hello {name}')\n",
    "    \n",
    "say_hello()"
   ]
  },
  {
   "cell_type": "markdown",
   "id": "2701f2ba",
   "metadata": {},
   "source": [
    "### return keyword\n",
    "__functions are typically used to return values after elaborating some parameters passed to it.__\n",
    "\n",
    "__return allows programmers to assign returnd values to variables__"
   ]
  },
  {
   "cell_type": "code",
   "execution_count": 13,
   "id": "7ea64473",
   "metadata": {},
   "outputs": [
    {
     "data": {
      "text/plain": [
       "3"
      ]
     },
     "execution_count": 13,
     "metadata": {},
     "output_type": "execute_result"
    }
   ],
   "source": [
    "def sum_numbers(num1,num2):\n",
    "    return num1 + num2\n",
    "\n",
    "result = sum_numbers(1,2)\n",
    "result"
   ]
  },
  {
   "cell_type": "markdown",
   "id": "0d81b278",
   "metadata": {},
   "source": [
    "### potential bugs\n",
    "__since python is dynamically typed, we don't have to specify what type of parameters the function needs  \n",
    "and this can cause a lot of bugs in large projects__  \n",
    "Example :  "
   ]
  },
  {
   "cell_type": "code",
   "execution_count": 14,
   "id": "a4cc7340",
   "metadata": {},
   "outputs": [
    {
     "data": {
      "text/plain": [
       "'12'"
      ]
     },
     "execution_count": 14,
     "metadata": {},
     "output_type": "execute_result"
    }
   ],
   "source": [
    "# the following function is inteded for numbers, but it also accepts STRINGS!\n",
    "def sum_numbers(num1,num2):\n",
    "    return num1 + num2\n",
    "\n",
    "result = sum_numbers('1','2')\n",
    "result"
   ]
  },
  {
   "cell_type": "markdown",
   "id": "053e6624",
   "metadata": {},
   "source": [
    "__to prevent this from happening we can check the type of the parameters receive and decide whether to proceed with the operation or not__"
   ]
  },
  {
   "cell_type": "code",
   "execution_count": 17,
   "id": "ad457e98",
   "metadata": {},
   "outputs": [
    {
     "name": "stdout",
     "output_type": "stream",
     "text": [
      "invalid parameters\n",
      "None\n",
      "3\n"
     ]
    }
   ],
   "source": [
    "def sum_numbers(num1,num2):\n",
    "    if ((type(num1) == int) and (type(num2) == int)):\n",
    "        return num1 + num2\n",
    "    else:\n",
    "        print('invalid parameters')\n",
    "\n",
    "        \n",
    "print(sum_numbers('1','2')) # this prints None because it returns nothing\n",
    "print(sum_numbers(1,2)) # valid parameters\n"
   ]
  },
  {
   "cell_type": "code",
   "execution_count": null,
   "id": "31fbcf11",
   "metadata": {},
   "outputs": [],
   "source": []
  }
 ],
 "metadata": {
  "kernelspec": {
   "display_name": "Python 3 (ipykernel)",
   "language": "python",
   "name": "python3"
  },
  "language_info": {
   "codemirror_mode": {
    "name": "ipython",
    "version": 3
   },
   "file_extension": ".py",
   "mimetype": "text/x-python",
   "name": "python",
   "nbconvert_exporter": "python",
   "pygments_lexer": "ipython3",
   "version": "3.9.7"
  }
 },
 "nbformat": 4,
 "nbformat_minor": 5
}
