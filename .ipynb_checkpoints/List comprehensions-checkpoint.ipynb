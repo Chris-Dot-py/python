{
 "cells": [
  {
   "cell_type": "markdown",
   "id": "b2d21a49",
   "metadata": {},
   "source": [
    "# List comprehension  \n",
    "\n",
    "__Its basically a flattened for loop used only for appending elements to a list For example we want to make a list out of the letters of a string:__"
   ]
  },
  {
   "cell_type": "code",
   "execution_count": 2,
   "id": "e1327b07",
   "metadata": {},
   "outputs": [
    {
     "data": {
      "text/plain": [
       "['E', 'x', 'a', 'm', 'p', 'l', 'e']"
      ]
     },
     "execution_count": 2,
     "metadata": {},
     "output_type": "execute_result"
    }
   ],
   "source": [
    "mylist = [] # empty\n",
    "\n",
    "for item in 'Example':\n",
    "    mylist.append(item)\n",
    "    \n",
    "mylist"
   ]
  },
  {
   "cell_type": "markdown",
   "id": "3d228d6d",
   "metadata": {},
   "source": [
    "__We are able to do this with only one line of code__"
   ]
  },
  {
   "cell_type": "code",
   "execution_count": 4,
   "id": "d5ea2258",
   "metadata": {},
   "outputs": [
    {
     "data": {
      "text/plain": [
       "['E', 'x', 'a', 'm', 'p', 'l', 'e']"
      ]
     },
     "execution_count": 4,
     "metadata": {},
     "output_type": "execute_result"
    }
   ],
   "source": [
    "mylist = [item for item in 'Example']\n",
    "\n",
    "mylist"
   ]
  },
  {
   "cell_type": "markdown",
   "id": "a912463c",
   "metadata": {},
   "source": [
    "__It is possible to use numbers too__"
   ]
  },
  {
   "cell_type": "code",
   "execution_count": 6,
   "id": "7371044d",
   "metadata": {},
   "outputs": [
    {
     "data": {
      "text/plain": [
       "[0, 1, 2, 3, 4, 5, 6, 7, 8, 9]"
      ]
     },
     "execution_count": 6,
     "metadata": {},
     "output_type": "execute_result"
    }
   ],
   "source": [
    "mylist = [num for num in range(0,10)] # creates a list from 0 to 9\n",
    "\n",
    "mylist"
   ]
  },
  {
   "cell_type": "markdown",
   "id": "37229c85",
   "metadata": {},
   "source": [
    "__Can add an operation for each iteration__"
   ]
  },
  {
   "cell_type": "code",
   "execution_count": 7,
   "id": "798a19b4",
   "metadata": {},
   "outputs": [
    {
     "data": {
      "text/plain": [
       "[0, 1, 4, 9, 16, 25, 36, 49, 64, 81]"
      ]
     },
     "execution_count": 7,
     "metadata": {},
     "output_type": "execute_result"
    }
   ],
   "source": [
    "mylist = [num**2 for num in range(0,10)] # each element is eleveted to the power of 2\n",
    "mylist"
   ]
  },
  {
   "cell_type": "markdown",
   "id": "c2900ab2",
   "metadata": {},
   "source": [
    "__Can add an if statement__"
   ]
  },
  {
   "cell_type": "code",
   "execution_count": 8,
   "id": "62a7c6f4",
   "metadata": {},
   "outputs": [
    {
     "data": {
      "text/plain": [
       "[0, 2, 4, 6, 8, 10]"
      ]
     },
     "execution_count": 8,
     "metadata": {},
     "output_type": "execute_result"
    }
   ],
   "source": [
    "mylist = [num for num in range(0,11) if num%2 == 0]  # returns even numbers between 0 and 11\n",
    "mylist"
   ]
  },
  {
   "cell_type": "markdown",
   "id": "166a5152",
   "metadata": {},
   "source": [
    "__Can add an if-else statement too, but the order is different__"
   ]
  },
  {
   "cell_type": "code",
   "execution_count": 9,
   "id": "ddea6f29",
   "metadata": {},
   "outputs": [
    {
     "data": {
      "text/plain": [
       "[0, 'NOT EVEN', 2, 'NOT EVEN', 4, 'NOT EVEN', 6, 'NOT EVEN', 8, 'NOT EVEN', 10]"
      ]
     },
     "execution_count": 9,
     "metadata": {},
     "output_type": "execute_result"
    }
   ],
   "source": [
    "mylist = [num if num%2 == 0 else 'NOT EVEN' for num in range(0,11)] \n",
    "mylist"
   ]
  },
  {
   "cell_type": "markdown",
   "id": "71405048",
   "metadata": {},
   "source": [
    "__It is also possible to add nested for loops but it becomes very difficult to read__\n",
    "\n",
    "Nested for loop example:"
   ]
  },
  {
   "cell_type": "code",
   "execution_count": 11,
   "id": "abe96ae1",
   "metadata": {},
   "outputs": [
    {
     "data": {
      "text/plain": [
       "[2, 20, 200, 4, 40, 400, 6, 60, 600]"
      ]
     },
     "execution_count": 11,
     "metadata": {},
     "output_type": "execute_result"
    }
   ],
   "source": [
    "mylist = [] \n",
    "\n",
    "for x in [2,4,6]:\n",
    "    for y in [1,10,100]:\n",
    "        mylist.append(x*y)\n",
    "\n",
    "mylist"
   ]
  },
  {
   "cell_type": "markdown",
   "id": "0cb00794",
   "metadata": {},
   "source": [
    "__The list comprehension version of it is the following__"
   ]
  },
  {
   "cell_type": "code",
   "execution_count": 12,
   "id": "06e57bd0",
   "metadata": {},
   "outputs": [
    {
     "data": {
      "text/plain": [
       "[2, 20, 200, 4, 40, 400, 6, 60, 600]"
      ]
     },
     "execution_count": 12,
     "metadata": {},
     "output_type": "execute_result"
    }
   ],
   "source": [
    "mylist = [x*y for x in [2,4,6] for y in [1,10,100]]\n",
    "mylist"
   ]
  },
  {
   "cell_type": "code",
   "execution_count": null,
   "id": "9d92d5ce",
   "metadata": {},
   "outputs": [],
   "source": []
  }
 ],
 "metadata": {
  "kernelspec": {
   "display_name": "Python 3 (ipykernel)",
   "language": "python",
   "name": "python3"
  },
  "language_info": {
   "codemirror_mode": {
    "name": "ipython",
    "version": 3
   },
   "file_extension": ".py",
   "mimetype": "text/x-python",
   "name": "python",
   "nbconvert_exporter": "python",
   "pygments_lexer": "ipython3",
   "version": "3.9.7"
  }
 },
 "nbformat": 4,
 "nbformat_minor": 5
}
