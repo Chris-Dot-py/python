{
 "cells": [
  {
   "cell_type": "code",
   "execution_count": 1,
   "id": "ede2ac6d",
   "metadata": {},
   "outputs": [
    {
     "name": "stdout",
     "output_type": "stream",
     "text": [
      "Overwriting test.txt\n"
     ]
    }
   ],
   "source": [
    "%%writefile test.txt\n",
    "This is a test file\n",
    "This is line one.\n",
    "And this is line two."
   ]
  },
  {
   "cell_type": "code",
   "execution_count": 2,
   "id": "29cdc06b",
   "metadata": {},
   "outputs": [],
   "source": [
    "# Open\n",
    "myfile = open('test.txt')"
   ]
  },
  {
   "cell_type": "markdown",
   "id": "caf352a7",
   "metadata": {},
   "source": [
    "__When reading a file, there is a cursor that moves through the txt file at the start__"
   ]
  },
  {
   "cell_type": "code",
   "execution_count": 3,
   "id": "160105e6",
   "metadata": {},
   "outputs": [
    {
     "data": {
      "text/plain": [
       "'This is a test file\\nThis is line one.\\nAnd this is line two.\\n'"
      ]
     },
     "execution_count": 3,
     "metadata": {},
     "output_type": "execute_result"
    }
   ],
   "source": [
    "myfile.read()"
   ]
  },
  {
   "cell_type": "code",
   "execution_count": 4,
   "id": "5ef5b514",
   "metadata": {},
   "outputs": [
    {
     "data": {
      "text/plain": [
       "''"
      ]
     },
     "execution_count": 4,
     "metadata": {},
     "output_type": "execute_result"
    }
   ],
   "source": [
    "myfile.read()"
   ]
  },
  {
   "cell_type": "markdown",
   "id": "bbc7768a",
   "metadata": {},
   "source": [
    "__Notice that when read again it returns nothing. This is because the _cursor_ has moved to  \n",
    "the end of the string__.\n",
    "__To read the file again we use the _seek_ method__"
   ]
  },
  {
   "cell_type": "code",
   "execution_count": 5,
   "id": "337d9943",
   "metadata": {},
   "outputs": [
    {
     "data": {
      "text/plain": [
       "0"
      ]
     },
     "execution_count": 5,
     "metadata": {},
     "output_type": "execute_result"
    }
   ],
   "source": [
    "myfile.seek(0) # go to from the start again"
   ]
  },
  {
   "cell_type": "code",
   "execution_count": 6,
   "id": "2105f57f",
   "metadata": {},
   "outputs": [
    {
     "data": {
      "text/plain": [
       "'This is a test file\\nThis is line one.\\nAnd this is line two.\\n'"
      ]
     },
     "execution_count": 6,
     "metadata": {},
     "output_type": "execute_result"
    }
   ],
   "source": [
    "myfile.read()"
   ]
  },
  {
   "cell_type": "markdown",
   "id": "2af4f76d",
   "metadata": {},
   "source": [
    "__the read method though returns all of the contents of the txt file.  \n",
    "To read line by line, we use the _readline_ method__"
   ]
  },
  {
   "cell_type": "code",
   "execution_count": 7,
   "id": "6d42f599",
   "metadata": {},
   "outputs": [
    {
     "data": {
      "text/plain": [
       "''"
      ]
     },
     "execution_count": 7,
     "metadata": {},
     "output_type": "execute_result"
    }
   ],
   "source": [
    "myfile.readline()"
   ]
  },
  {
   "cell_type": "markdown",
   "id": "939808e9",
   "metadata": {},
   "source": [
    "__Notice that it retured ONE line. the _readlines_ method returns _list_ with all the lines__"
   ]
  },
  {
   "cell_type": "code",
   "execution_count": 8,
   "id": "667cc6f1",
   "metadata": {},
   "outputs": [
    {
     "data": {
      "text/plain": [
       "0"
      ]
     },
     "execution_count": 8,
     "metadata": {},
     "output_type": "execute_result"
    }
   ],
   "source": [
    "myfile.seek(0) # go to from the start again\n"
   ]
  },
  {
   "cell_type": "code",
   "execution_count": 9,
   "id": "7caa764d",
   "metadata": {},
   "outputs": [
    {
     "data": {
      "text/plain": [
       "['This is a test file\\n', 'This is line one.\\n', 'And this is line two.\\n']"
      ]
     },
     "execution_count": 9,
     "metadata": {},
     "output_type": "execute_result"
    }
   ],
   "source": [
    "myfile.readlines()"
   ]
  },
  {
   "cell_type": "markdown",
   "id": "9b48fc4e",
   "metadata": {},
   "source": [
    "__Every opened file must be closed to avoid errors with the _close_ method__"
   ]
  },
  {
   "cell_type": "code",
   "execution_count": 10,
   "id": "2be04501",
   "metadata": {},
   "outputs": [],
   "source": [
    "myfile.close()"
   ]
  },
  {
   "cell_type": "markdown",
   "id": "63b7d6d8",
   "metadata": {},
   "source": [
    "__To not worry about closing files as they're being opened we can use the following lines of code__"
   ]
  },
  {
   "cell_type": "code",
   "execution_count": 11,
   "id": "dc24ae9e",
   "metadata": {},
   "outputs": [
    {
     "data": {
      "text/plain": [
       "'This is a test file\\nThis is line one.\\nAnd this is line two.\\n'"
      ]
     },
     "execution_count": 11,
     "metadata": {},
     "output_type": "execute_result"
    }
   ],
   "source": [
    "with open('test.txt') as my_new_file:\n",
    "    contents = my_new_file.read()\n",
    "    \n",
    "contents"
   ]
  },
  {
   "cell_type": "markdown",
   "id": "0d4d63ba",
   "metadata": {},
   "source": [
    "__We can _read_, _append_, _write_ content to our txt file with by using the paramenter _mode_  \n",
    "in the _open()_ method__"
   ]
  },
  {
   "cell_type": "code",
   "execution_count": 12,
   "id": "fbb63e6c",
   "metadata": {},
   "outputs": [
    {
     "data": {
      "text/plain": [
       "'This is a test file\\nThis is line one.\\nAnd this is line two.\\n'"
      ]
     },
     "execution_count": 12,
     "metadata": {},
     "output_type": "execute_result"
    }
   ],
   "source": [
    "# read\n",
    "with open('test.txt', mode = 'r') as my_new_file:\n",
    "    contents = my_new_file.read()\n",
    "contents"
   ]
  },
  {
   "cell_type": "code",
   "execution_count": 13,
   "id": "6bc2f6da",
   "metadata": {},
   "outputs": [
    {
     "data": {
      "text/plain": [
       "'This is a test file\\nThis is line one.\\nAnd this is line two.\\n\\nappended line three.'"
      ]
     },
     "execution_count": 13,
     "metadata": {},
     "output_type": "execute_result"
    }
   ],
   "source": [
    "# append\n",
    "with open('test.txt', mode = 'a') as my_new_file:\n",
    "    contents = my_new_file.write('\\nappended line three.')\n",
    "\n",
    "# read\n",
    "with open('test.txt', mode = 'r') as my_new_file:\n",
    "    contents = my_new_file.read()\n",
    "\n",
    "contents"
   ]
  },
  {
   "cell_type": "code",
   "execution_count": 14,
   "id": "8729e871",
   "metadata": {},
   "outputs": [],
   "source": [
    "# write\n",
    "with open('test_two.txt', mode = 'w') as my_new_file:\n",
    "    my_new_file.write('This is a new created file!')"
   ]
  },
  {
   "cell_type": "code",
   "execution_count": 15,
   "id": "dadd3b19",
   "metadata": {},
   "outputs": [
    {
     "data": {
      "text/plain": [
       "'This is a new created file!'"
      ]
     },
     "execution_count": 15,
     "metadata": {},
     "output_type": "execute_result"
    }
   ],
   "source": [
    "# read\n",
    "with open('test_two.txt', mode = 'r') as my_new_file:\n",
    "    contents = my_new_file.read()\n",
    "    \n",
    "contents"
   ]
  },
  {
   "cell_type": "code",
   "execution_count": null,
   "id": "40ce3756",
   "metadata": {},
   "outputs": [],
   "source": []
  }
 ],
 "metadata": {
  "kernelspec": {
   "display_name": "Python 3 (ipykernel)",
   "language": "python",
   "name": "python3"
  },
  "language_info": {
   "codemirror_mode": {
    "name": "ipython",
    "version": 3
   },
   "file_extension": ".py",
   "mimetype": "text/x-python",
   "name": "python",
   "nbconvert_exporter": "python",
   "pygments_lexer": "ipython3",
   "version": "3.9.7"
  }
 },
 "nbformat": 4,
 "nbformat_minor": 5
}
