{
 "cells": [
  {
   "cell_type": "markdown",
   "id": "4551dd19",
   "metadata": {},
   "source": [
    "# Sets\n",
    "__Sets__ are a collection of __unique__ and __unordered__ values.  \n",
    "You can declare an empty set add eventually add values to it with the  \n",
    "__add__ method."
   ]
  },
  {
   "cell_type": "code",
   "execution_count": 4,
   "id": "a0e37df8",
   "metadata": {},
   "outputs": [
    {
     "data": {
      "text/plain": [
       "set()"
      ]
     },
     "execution_count": 4,
     "metadata": {},
     "output_type": "execute_result"
    }
   ],
   "source": [
    "mySet = set()\n",
    "mySet #empty set"
   ]
  },
  {
   "cell_type": "code",
   "execution_count": 6,
   "id": "478af2b3",
   "metadata": {},
   "outputs": [
    {
     "data": {
      "text/plain": [
       "{1}"
      ]
     },
     "execution_count": 6,
     "metadata": {},
     "output_type": "execute_result"
    }
   ],
   "source": [
    "mySet.add(1)\n",
    "mySet"
   ]
  },
  {
   "cell_type": "code",
   "execution_count": 7,
   "id": "e01f3b45",
   "metadata": {},
   "outputs": [
    {
     "data": {
      "text/plain": [
       "{1, 'value'}"
      ]
     },
     "execution_count": 7,
     "metadata": {},
     "output_type": "execute_result"
    }
   ],
   "source": [
    "mySet.add('value')\n",
    "mySet"
   ]
  },
  {
   "cell_type": "markdown",
   "id": "c6cbdcdd",
   "metadata": {},
   "source": [
    "the value __'1'__ is already in the set, so if we try to add it again, it wont duplicate it nor generate any error"
   ]
  },
  {
   "cell_type": "code",
   "execution_count": 8,
   "id": "9698b63c",
   "metadata": {},
   "outputs": [
    {
     "data": {
      "text/plain": [
       "{1, 'value'}"
      ]
     },
     "execution_count": 8,
     "metadata": {},
     "output_type": "execute_result"
    }
   ],
   "source": [
    "mySet.add(1)\n",
    "mySet"
   ]
  },
  {
   "cell_type": "markdown",
   "id": "1bea7fc8",
   "metadata": {},
   "source": [
    "### it is possible to cast a list into a set to extract a all the unique values in it"
   ]
  },
  {
   "cell_type": "code",
   "execution_count": 9,
   "id": "7d41a6e9",
   "metadata": {},
   "outputs": [
    {
     "data": {
      "text/plain": [
       "{1, 2, 3}"
      ]
     },
     "execution_count": 9,
     "metadata": {},
     "output_type": "execute_result"
    }
   ],
   "source": [
    "myList = [1,1,1,1,2,2,2,2,2,3,3,3]\n",
    "uniqueList = set(myList)\n",
    "uniqueList"
   ]
  },
  {
   "cell_type": "markdown",
   "id": "f7f7e7b1",
   "metadata": {},
   "source": [
    "### It is also possible to use it on strings to extract the unique letters in it"
   ]
  },
  {
   "cell_type": "code",
   "execution_count": 10,
   "id": "8a7ce043",
   "metadata": {},
   "outputs": [
    {
     "data": {
      "text/plain": [
       "{'M', 'i', 'p', 's'}"
      ]
     },
     "execution_count": 10,
     "metadata": {},
     "output_type": "execute_result"
    }
   ],
   "source": [
    "uniqueLetters = set('Mississippi')\n",
    "uniqueLetters"
   ]
  },
  {
   "cell_type": "code",
   "execution_count": null,
   "id": "403aee87",
   "metadata": {},
   "outputs": [],
   "source": []
  }
 ],
 "metadata": {
  "kernelspec": {
   "display_name": "Python 3 (ipykernel)",
   "language": "python",
   "name": "python3"
  },
  "language_info": {
   "codemirror_mode": {
    "name": "ipython",
    "version": 3
   },
   "file_extension": ".py",
   "mimetype": "text/x-python",
   "name": "python",
   "nbconvert_exporter": "python",
   "pygments_lexer": "ipython3",
   "version": "3.9.7"
  }
 },
 "nbformat": 4,
 "nbformat_minor": 5
}
