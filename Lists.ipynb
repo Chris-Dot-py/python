{
 "cells": [
  {
   "cell_type": "markdown",
   "id": "66363d2b",
   "metadata": {},
   "source": [
    "# Lists  \n",
    "__Lists can hold same/different elements defined within square brackets seperated with commas ','.__"
   ]
  },
  {
   "cell_type": "code",
   "execution_count": 2,
   "id": "0f438c54",
   "metadata": {},
   "outputs": [
    {
     "name": "stdout",
     "output_type": "stream",
     "text": [
      "[1, 2, 3]\n",
      "['one', 'two', 'three']\n",
      "[1, 2, 3, 'one', 'two', 'three']\n"
     ]
    }
   ],
   "source": [
    "myIntList = [1,2,3]\n",
    "myStringList = ['one','two', 'three']\n",
    "myNewList = myIntList + myStringList\n",
    "\n",
    "print(myIntList)\n",
    "print(myStringList)\n",
    "print(myNewList)"
   ]
  },
  {
   "cell_type": "markdown",
   "id": "de5e131a",
   "metadata": {},
   "source": [
    "__Lists are similar to strings, it is possible to apply string slicing, concatenation\n",
    "and indexing to lists. But lists are MUTABLE.__"
   ]
  },
  {
   "cell_type": "code",
   "execution_count": 9,
   "id": "750db510",
   "metadata": {},
   "outputs": [
    {
     "name": "stdout",
     "output_type": "stream",
     "text": [
      "['one', 'two', 'three']\n",
      "['Index Zero', 'two', 'three']\n"
     ]
    }
   ],
   "source": [
    "myStringList = ['one','two', 'three']\n",
    "print(myStringList)\n",
    "myStringList[0] = 'Index Zero'\n",
    "print(myStringList)"
   ]
  },
  {
   "cell_type": "markdown",
   "id": "cdcb0ebb",
   "metadata": {},
   "source": [
    "### __Lists has 4 useful methods : append, pop, sort, reverse__\n",
    "__append__ lets you add an element at the end of the list"
   ]
  },
  {
   "cell_type": "code",
   "execution_count": 11,
   "id": "50975a79",
   "metadata": {},
   "outputs": [
    {
     "name": "stdout",
     "output_type": "stream",
     "text": [
      "['one', 'two', 'three']\n",
      "['one', 'two', 'three', 'four']\n"
     ]
    }
   ],
   "source": [
    "myList = ['one','two','three']\n",
    "print(myList)\n",
    "myList.append('four')\n",
    "print(myList)"
   ]
  },
  {
   "cell_type": "markdown",
   "id": "a4673330",
   "metadata": {},
   "source": [
    "__pop__ lets you remove elements in the list"
   ]
  },
  {
   "cell_type": "code",
   "execution_count": 12,
   "id": "ded74135",
   "metadata": {},
   "outputs": [
    {
     "name": "stdout",
     "output_type": "stream",
     "text": [
      "['one', 'two', 'three']\n",
      "['one', 'two']\n"
     ]
    }
   ],
   "source": [
    "myList = ['one','two','three']\n",
    "print(myList)\n",
    "myList.pop()\n",
    "print(myList)"
   ]
  },
  {
   "cell_type": "markdown",
   "id": "62514242",
   "metadata": {},
   "source": [
    "__sort__ sorts the elements inside in ascending order  \n",
    "__reverse__ reverses the order of the elements inside the list  \n",
    "both of these two functions DO NOT return anything, so 'None' value is returned if tried  \n",
    "to be assigned to some variables."
   ]
  },
  {
   "cell_type": "code",
   "execution_count": 26,
   "id": "2330247f",
   "metadata": {},
   "outputs": [
    {
     "name": "stdout",
     "output_type": "stream",
     "text": [
      "['a', 'b', 'd', 'f', 'x']\n",
      "[5, 1, 0, 3]\n",
      "None\n",
      "None\n"
     ]
    }
   ],
   "source": [
    "letters = ['d','f','x','a','b']\n",
    "letters.sort()\n",
    "print(letters)\n",
    "\n",
    "numbers = [3,0,1,5]\n",
    "numbers.reverse()\n",
    "print(numbers)\n",
    "\n",
    "print(letters.sort())\n",
    "print(numbers.reverse())"
   ]
  },
  {
   "cell_type": "code",
   "execution_count": null,
   "id": "c9a0e64f",
   "metadata": {},
   "outputs": [],
   "source": []
  },
  {
   "cell_type": "code",
   "execution_count": null,
   "id": "86b923ff",
   "metadata": {},
   "outputs": [],
   "source": []
  }
 ],
 "metadata": {
  "kernelspec": {
   "display_name": "Python 3 (ipykernel)",
   "language": "python",
   "name": "python3"
  },
  "language_info": {
   "codemirror_mode": {
    "name": "ipython",
    "version": 3
   },
   "file_extension": ".py",
   "mimetype": "text/x-python",
   "name": "python",
   "nbconvert_exporter": "python",
   "pygments_lexer": "ipython3",
   "version": "3.9.7"
  }
 },
 "nbformat": 4,
 "nbformat_minor": 5
}
